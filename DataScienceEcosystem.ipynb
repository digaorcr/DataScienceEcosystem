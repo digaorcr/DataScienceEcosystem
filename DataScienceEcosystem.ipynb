{
 "cells": [
  {
   "cell_type": "markdown",
   "id": "3e82e850-8c18-43e0-b610-632babc7e306",
   "metadata": {},
   "source": [
    "# Data Science Tools and Ecosystem"
   ]
  },
  {
   "cell_type": "markdown",
   "id": "2240c660-2ede-4743-ab3b-ba3305aecb94",
   "metadata": {},
   "source": [
    "# **Objectives:**\n",
    "\n",
    "- List popular languages for Data Science\n",
    "- List commonly used libraries in Data Science\n",
    "- Create a table with Data Science tools\n",
    "- Perform arithmetic operations using Python\n",
    "- Share a Jupyter Notebook through GitHub"
   ]
  },
  {
   "cell_type": "markdown",
   "id": "79009eb8-aaaf-4c69-847d-f6097b62bc28",
   "metadata": {},
   "source": [
    "# In this Notebook, Data Science Tools and Ecosystem are summarized."
   ]
  },
  {
   "cell_type": "markdown",
   "id": "0b1c67bb-bbfc-41b8-9522-c65dca930d05",
   "metadata": {},
   "source": [
    "# Some of the popular languages that Data Scientists use are:\n",
    "\n",
    "1. Python\n",
    "2. R\n",
    "3. SQL"
   ]
  },
  {
   "cell_type": "markdown",
   "id": "891de572-75a7-4911-b060-6726de360619",
   "metadata": {},
   "source": [
    "# Some of the commonly used libraries used by Data Scientists include:\n",
    "\n",
    "1. pandas\n",
    "2. NumPy\n",
    "3. Matplotlib"
   ]
  },
  {
   "cell_type": "markdown",
   "id": "d62cd5ad-1db1-44f6-bc63-34db0f2304fd",
   "metadata": {},
   "source": [
    "|Data Science Tools |\n",
    "|------------------ |\n",
    "|Jupyter Notebook   |\n",
    "| RStudio           |\n",
    "| Apache Zeppelin   |"
   ]
  },
  {
   "cell_type": "markdown",
   "id": "da3df7a7-f751-4ca3-ae4a-f544bf89309d",
   "metadata": {},
   "source": [
    "### Below are a few examples of evaluating arithmetic expressions in Python"
   ]
  },
  {
   "cell_type": "code",
   "execution_count": 6,
   "id": "6860a836-f222-455d-98c0-bf2f3c5c8a62",
   "metadata": {},
   "outputs": [
    {
     "data": {
      "text/plain": [
       "17"
      ]
     },
     "execution_count": 6,
     "metadata": {},
     "output_type": "execute_result"
    }
   ],
   "source": [
    "#This a simple arithmetic expression to mutiply then add integers \n",
    "(3*4)+5"
   ]
  },
  {
   "cell_type": "code",
   "execution_count": 10,
   "id": "eaa96769-bc4a-4b4b-aef1-fcd93b43b1f2",
   "metadata": {},
   "outputs": [
    {
     "data": {
      "text/plain": [
       "'3.3333333333333335 hours'"
      ]
     },
     "execution_count": 10,
     "metadata": {},
     "output_type": "execute_result"
    }
   ],
   "source": [
    "#This will convert 200 minutes to hours by diving by 60\n",
    "result = 200 / 60\n",
    "f\"{result} hours\""
   ]
  },
  {
   "cell_type": "markdown",
   "id": "e43f897c-3409-4ae6-b201-e5fa7ba028b3",
   "metadata": {},
   "source": [
    "## Author:\n",
    "   Rodrigo Rodrigues"
   ]
  },
  {
   "cell_type": "code",
   "execution_count": null,
   "id": "13a9aa69-3b0f-4fcc-b6b7-888f2c68ef1f",
   "metadata": {},
   "outputs": [],
   "source": []
  }
 ],
 "metadata": {
  "kernelspec": {
   "display_name": "Python 3 (ipykernel)",
   "language": "python",
   "name": "python3"
  },
  "language_info": {
   "codemirror_mode": {
    "name": "ipython",
    "version": 3
   },
   "file_extension": ".py",
   "mimetype": "text/x-python",
   "name": "python",
   "nbconvert_exporter": "python",
   "pygments_lexer": "ipython3",
   "version": "3.12.7"
  }
 },
 "nbformat": 4,
 "nbformat_minor": 5
}
